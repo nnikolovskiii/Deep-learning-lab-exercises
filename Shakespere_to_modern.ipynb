{
  "nbformat": 4,
  "nbformat_minor": 0,
  "metadata": {
    "colab": {
      "provenance": [],
      "gpuType": "T4",
      "authorship_tag": "ABX9TyNYvIyxDfw+6A1tKNYavcAo",
      "include_colab_link": true
    },
    "kernelspec": {
      "name": "python3",
      "display_name": "Python 3"
    },
    "language_info": {
      "name": "python"
    },
    "accelerator": "GPU"
  },
  "cells": [
    {
      "cell_type": "markdown",
      "metadata": {
        "id": "view-in-github",
        "colab_type": "text"
      },
      "source": [
        "<a href=\"https://colab.research.google.com/github/nnikolovskiii/Deep-learning-lab-exercises/blob/master/Shakespere_to_modern.ipynb\" target=\"_parent\"><img src=\"https://colab.research.google.com/assets/colab-badge.svg\" alt=\"Open In Colab\"/></a>"
      ]
    },
    {
      "cell_type": "code",
      "source": [
        "!pip install torch"
      ],
      "metadata": {
        "colab": {
          "base_uri": "https://localhost:8080/"
        },
        "id": "5X2DM_EPHjJh",
        "outputId": "d1e5ebc3-1e6c-4cee-c259-69bae35aa265"
      },
      "execution_count": 17,
      "outputs": [
        {
          "output_type": "stream",
          "name": "stdout",
          "text": [
            "Requirement already satisfied: torch in /usr/local/lib/python3.10/dist-packages (2.1.0+cu118)\n",
            "Requirement already satisfied: filelock in /usr/local/lib/python3.10/dist-packages (from torch) (3.13.1)\n",
            "Requirement already satisfied: typing-extensions in /usr/local/lib/python3.10/dist-packages (from torch) (4.5.0)\n",
            "Requirement already satisfied: sympy in /usr/local/lib/python3.10/dist-packages (from torch) (1.12)\n",
            "Requirement already satisfied: networkx in /usr/local/lib/python3.10/dist-packages (from torch) (3.2.1)\n",
            "Requirement already satisfied: jinja2 in /usr/local/lib/python3.10/dist-packages (from torch) (3.1.2)\n",
            "Requirement already satisfied: fsspec in /usr/local/lib/python3.10/dist-packages (from torch) (2023.6.0)\n",
            "Requirement already satisfied: triton==2.1.0 in /usr/local/lib/python3.10/dist-packages (from torch) (2.1.0)\n",
            "Requirement already satisfied: MarkupSafe>=2.0 in /usr/local/lib/python3.10/dist-packages (from jinja2->torch) (2.1.3)\n",
            "Requirement already satisfied: mpmath>=0.19 in /usr/local/lib/python3.10/dist-packages (from sympy->torch) (1.3.0)\n"
          ]
        }
      ]
    },
    {
      "cell_type": "code",
      "source": [
        "import torch"
      ],
      "metadata": {
        "id": "p-39IsR7Hxo3"
      },
      "execution_count": 18,
      "outputs": []
    },
    {
      "cell_type": "code",
      "execution_count": 19,
      "metadata": {
        "id": "XOvnmf7NF3Dw"
      },
      "outputs": [],
      "source": [
        "import torch\n",
        "import torch.nn as nn\n",
        "from tqdm import tqdm\n",
        "\n",
        "def word_tokenize(li):\n",
        "    i = 2\n",
        "    d = {\"<sos>\": 0, \"<eos>\": 1}\n",
        "    s = 0.0\n",
        "    c = 0.0\n",
        "    for sentence in li:\n",
        "        for word in sentence.split():\n",
        "            s += 1\n",
        "            if word.lower() not in d:\n",
        "                d[word.lower()] = i\n",
        "                i = i + 1\n",
        "\n",
        "        c += 1\n",
        "    return d, int(s // c)\n",
        "\n",
        "\n",
        "def init_weights(m):\n",
        "    for name, param in m.named_parameters():\n",
        "        nn.init.uniform_(param.data, -0.08, 0.08)\n",
        "\n",
        "\n",
        "def train(model, data_loader, optimizer, criterion, clip):\n",
        "    model.train()\n",
        "\n",
        "    epoch_loss = 0\n",
        "\n",
        "    for i, batch in enumerate(tqdm(data_loader, desc=\"Processing Batches\", total=len(data_loader))):\n",
        "        src = batch[\"src\"]\n",
        "        trg = batch[\"trg\"]\n",
        "        src = src.t()\n",
        "        trg = trg.t()\n",
        "\n",
        "        optimizer.zero_grad()\n",
        "\n",
        "        output = model(src, trg)\n",
        "\n",
        "        # trg = [trg len, batch size]\n",
        "        # output = [trg len, batch size, output dim]\n",
        "\n",
        "        output_dim = output.shape[-1]\n",
        "\n",
        "        output = output[1:].reshape(-1, output_dim)\n",
        "\n",
        "        # Reshape the target tensor to [(trg len - 1) * batch size]\n",
        "        trg = trg[1:].reshape(-1)\n",
        "\n",
        "        # trg = [(trg len - 1) * batch size]\n",
        "        # output = [(trg len - 1) * batch size, output dim]\n",
        "\n",
        "        loss = criterion(output, trg)\n",
        "\n",
        "        loss.backward()\n",
        "\n",
        "        torch.nn.utils.clip_grad_norm_(model.parameters(), clip)\n",
        "\n",
        "        optimizer.step()\n",
        "\n",
        "        epoch_loss += loss.item()\n",
        "\n",
        "    return epoch_loss / len(data_loader)\n",
        "\n",
        "\n",
        "def epoch_time(start_time, end_time):\n",
        "    elapsed_time = end_time - start_time\n",
        "    elapsed_mins = int(elapsed_time / 60)\n",
        "    elapsed_secs = int(elapsed_time - (elapsed_mins * 60))\n",
        "    return elapsed_mins, elapsed_secs\n",
        "\n",
        "\n",
        "def evaluate(model, data_loader, criterion):\n",
        "    model.eval()\n",
        "\n",
        "    epoch_loss = 0\n",
        "\n",
        "    with torch.no_grad():\n",
        "        for i, batch in enumerate(tqdm(data_loader, desc=\"Processing Batches\", total=len(data_loader))):\n",
        "            src = batch[\"src\"]\n",
        "            trg = batch[\"trg\"]\n",
        "\n",
        "            output = model(src, trg, 0)  # turn off teacher forcing\n",
        "\n",
        "            # trg = [trg len, batch size]\n",
        "            # output = [trg len, batch size, output dim]\n",
        "\n",
        "            output_dim = output.shape[-1]\n",
        "\n",
        "            output = output[1:].view(-1, output_dim)\n",
        "            trg = trg[1:].view(-1)\n",
        "\n",
        "            # trg = [(trg len - 1) * batch size]\n",
        "            # output = [(trg len - 1) * batch size, output dim]\n",
        "\n",
        "            loss = criterion(output, trg)\n",
        "\n",
        "            epoch_loss += loss.item()\n",
        "\n",
        "    return epoch_loss / len(data_loader)\n",
        "\n",
        "def path_to_list(file):\n",
        "    f = open(file, \"r\")\n",
        "    text = f.read()\n",
        "\n",
        "    li = str.splitlines(text)\n",
        "    return li"
      ]
    },
    {
      "cell_type": "code",
      "source": [
        "import torch\n",
        "from torch.utils.data import Dataset, DataLoader\n",
        "import torch.nn as nn\n",
        "import random\n",
        "\n",
        "class ShakespeareanDataset(Dataset):\n",
        "    def __init__(self, shakespearean_sentences, modern_sentences, src_d, trg_d, avg_src, avg_trg):\n",
        "        self.shakespearean_sentences = shakespearean_sentences\n",
        "        self.modern_sentences = modern_sentences\n",
        "        self.src_d = src_d\n",
        "        self.trg_d = trg_d\n",
        "        self.avg_src = avg_src\n",
        "        self.avg_trg = avg_trg\n",
        "\n",
        "    def pad_sequence(self, sequence, target_size, padding_value=0):\n",
        "        if len(sequence) < target_size:\n",
        "            sequence = sequence + [padding_value] * (target_size - len(sequence))\n",
        "        elif len(sequence) > target_size:\n",
        "            sequence = sequence[:target_size]\n",
        "        return sequence\n",
        "\n",
        "    def __len__(self):\n",
        "        return len(self.shakespearean_sentences)\n",
        "\n",
        "    def __getitem__(self, idx):\n",
        "        src_sentence = self.shakespearean_sentences[idx]\n",
        "        trg_sentence = self.modern_sentences[idx]\n",
        "\n",
        "        src_text = [self.src_d.get(word.lower(), 0) for word in src_sentence.split()]\n",
        "        src_text = [0] + src_text + [1]\n",
        "\n",
        "        trg_text = [self.trg_d.get(word.lower(), 0) for word in trg_sentence.split()]\n",
        "        trg_text = [0] + trg_text + [1]\n",
        "\n",
        "        src_text = self.pad_sequence(src_text, self.avg_src)\n",
        "        trg_text = self.pad_sequence(trg_text, self.avg_trg)\n",
        "\n",
        "        return {\n",
        "            \"src\": torch.tensor(src_text).to(device),\n",
        "            \"trg\": torch.tensor(trg_text).to(device)\n",
        "        }\n",
        "\n",
        "class Encoder(nn.Module):\n",
        "    def __init__(self, input_dim, emb_dim, hid_dim, n_layers, dropout):\n",
        "        super().__init__()\n",
        "\n",
        "        self.hid_dim = hid_dim\n",
        "        self.n_layers = n_layers\n",
        "\n",
        "        self.embedding = nn.Embedding(input_dim, emb_dim)\n",
        "\n",
        "        self.rnn = nn.LSTM(emb_dim, hid_dim, n_layers, dropout = dropout)\n",
        "\n",
        "        self.dropout = nn.Dropout(dropout)\n",
        "\n",
        "    def forward(self, src):\n",
        "\n",
        "        #src = [src len, batch size]\n",
        "\n",
        "        embedded = self.dropout(self.embedding(src))\n",
        "\n",
        "        #embedded = [src len, batch size, emb dim]\n",
        "\n",
        "        outputs, (hidden, cell) = self.rnn(embedded)\n",
        "\n",
        "        #outputs = [src len, batch size, hid dim * n directions]\n",
        "        #hidden = [n layers * n directions, batch size, hid dim]\n",
        "        #cell = [n layers * n directions, batch size, hid dim]\n",
        "\n",
        "        #outputs are always from the top hidden layer\n",
        "\n",
        "        return hidden, cell\n",
        "\n",
        "class Decoder(nn.Module):\n",
        "    def __init__(self, output_dim, emb_dim, hid_dim, n_layers, dropout):\n",
        "        super().__init__()\n",
        "\n",
        "        self.output_dim = output_dim\n",
        "        self.hid_dim = hid_dim\n",
        "        self.n_layers = n_layers\n",
        "\n",
        "        self.embedding = nn.Embedding(output_dim, emb_dim)\n",
        "\n",
        "        self.rnn = nn.LSTM(emb_dim, hid_dim, n_layers, dropout = dropout)\n",
        "\n",
        "        self.fc_out = nn.Linear(hid_dim, output_dim)\n",
        "\n",
        "        self.dropout = nn.Dropout(dropout)\n",
        "\n",
        "    def forward(self, input, hidden, cell):\n",
        "\n",
        "        #input = [batch size]\n",
        "        #hidden = [n layers * n directions, batch size, hid dim]\n",
        "        #cell = [n layers * n directions, batch size, hid dim]\n",
        "\n",
        "        #n directions in the decoder will both always be 1, therefore:\n",
        "        #hidden = [n layers, batch size, hid dim]\n",
        "        #context = [n layers, batch size, hid dim]\n",
        "\n",
        "        input = input.unsqueeze(0)\n",
        "\n",
        "        #input = [1, batch size]\n",
        "\n",
        "        embedded = self.dropout(self.embedding(input))\n",
        "\n",
        "        #embedded = [1, batch size, emb dim]\n",
        "\n",
        "        output, (hidden, cell) = self.rnn(embedded, (hidden, cell))\n",
        "\n",
        "        #output = [seq len, batch size, hid dim * n directions]\n",
        "        #hidden = [n layers * n directions, batch size, hid dim]\n",
        "        #cell = [n layers * n directions, batch size, hid dim]\n",
        "\n",
        "        #seq len and n directions will always be 1 in the decoder, therefore:\n",
        "        #output = [1, batch size, hid dim]\n",
        "        #hidden = [n layers, batch size, hid dim]\n",
        "        #cell = [n layers, batch size, hid dim]\n",
        "\n",
        "        prediction = self.fc_out(output.squeeze(0))\n",
        "\n",
        "        #prediction = [batch size, output dim]\n",
        "\n",
        "        return prediction, hidden, cell\n",
        "class Seq2Seq(nn.Module):\n",
        "    def __init__(self, encoder, decoder, device):\n",
        "        super().__init__()\n",
        "\n",
        "        self.encoder = encoder\n",
        "        self.decoder = decoder\n",
        "        self.device = device\n",
        "\n",
        "        assert encoder.hid_dim == decoder.hid_dim, \\\n",
        "            \"Hidden dimensions of encoder and decoder must be equal!\"\n",
        "        assert encoder.n_layers == decoder.n_layers, \\\n",
        "            \"Encoder and decoder must have equal number of layers!\"\n",
        "\n",
        "    def forward(self, src, trg, teacher_forcing_ratio = 0.5):\n",
        "\n",
        "        #src = [src len, batch size]\n",
        "        #trg = [trg len, batch size]\n",
        "        #teacher_forcing_ratio is probability to use teacher forcing\n",
        "        #e.g. if teacher_forcing_ratio is 0.75 we use ground-truth inputs 75% of the time\n",
        "        batch_size = trg.shape[1]\n",
        "        trg_len = trg.shape[0]\n",
        "        trg_vocab_size = self.decoder.output_dim\n",
        "\n",
        "\n",
        "        #tensor to store decoder outputs\n",
        "        outputs = torch.zeros(trg_len, batch_size, trg_vocab_size).to(self.device)\n",
        "\n",
        "        #last hidden state of the encoder is used as the initial hidden state of the decoder\n",
        "        hidden, cell = self.encoder(src)\n",
        "\n",
        "        #first input to the decoder is the <sos> tokens\n",
        "        input = trg[0,:]\n",
        "\n",
        "        for t in range(1, trg_len):\n",
        "\n",
        "            #insert input token embedding, previous hidden and previous cell states\n",
        "            #receive output tensor (predictions) and new hidden and cell states\n",
        "            output, hidden, cell = self.decoder(input, hidden, cell)\n",
        "\n",
        "            #place predictions in a tensor holding predictions for each token\n",
        "            outputs[t] = output\n",
        "\n",
        "            #decide if we are going to use teacher forcing or not\n",
        "            teacher_force = random.random() < teacher_forcing_ratio\n",
        "\n",
        "            #get the highest predicted token from our predictions\n",
        "            top1 = output.argmax(1)\n",
        "\n",
        "            #if teacher forcing, use actual next token as next input\n",
        "            #if not, use predicted token\n",
        "            input = trg[t] if teacher_force else top1\n",
        "\n",
        "        return outputs"
      ],
      "metadata": {
        "id": "_qMVed7YF6ID"
      },
      "execution_count": 20,
      "outputs": []
    },
    {
      "cell_type": "code",
      "source": [
        "# -*- coding: utf-8 -*-\n",
        "\"\"\"Shakespere.ipynb\n",
        "\n",
        "Automatically generated by Colaboratory.\n",
        "\n",
        "Original file is located at\n",
        "    https://colab.research.google.com/drive/1G-s-J5oXSa15CG1jxdBNZp97zkN4QLam\n",
        "\"\"\"\n",
        "import math\n",
        "\n",
        "import torch\n",
        "from torch.utils.data import DataLoader\n",
        "import torch.nn as nn\n",
        "import torch.optim as optim\n",
        "import time\n",
        "\n",
        "\n",
        "# Press the green button in the gutter to run the script.\n",
        "if __name__ == '__main__':\n",
        "    original_li = path_to_list(\"/content/train.original.nltktok\")\n",
        "    modern_li = path_to_list(\"/content/train.modern.nltktok\")\n",
        "    original_val = path_to_list(\"/content/valid.original.nltktok\")\n",
        "    modern_val = path_to_list(\"/content/valid.modern.nltktok\")\n",
        "    original_test = path_to_list(\"/content/test.original.nltktok\")\n",
        "    modern_test = path_to_list(\"/content/test.modern.nltktok\")\n",
        "\n",
        "    device = torch.device('cuda' if torch.cuda.is_available() else 'cpu')\n",
        "\n",
        "    src_d, avg_src = word_tokenize(original_li)\n",
        "    trg_d, avg_trg = word_tokenize(modern_li)\n",
        "    print(f\"Unique tokens in source (original) vocabulary: {len(src_d)}\")\n",
        "    print(f\"Unique tokens in target (modern) vocabulary: {len(trg_d)}\")\n",
        "\n",
        "    dataset = ShakespeareanDataset(original_li, modern_li, src_d, trg_d, 11, 11)\n",
        "    dataset_val = ShakespeareanDataset(original_val, modern_val, src_d, trg_d,11, 11)\n",
        "    dataset_test = ShakespeareanDataset(original_test, modern_test, src_d, trg_d, 11, 11)\n",
        "\n",
        "    batch_size = 32\n",
        "    data_loader = DataLoader(dataset, batch_size=batch_size, shuffle=True)\n",
        "    data_val_loader = DataLoader(dataset_val, batch_size=batch_size, shuffle=True)\n",
        "    data_test_loader = DataLoader(dataset_test, batch_size=batch_size, shuffle=True)\n",
        "\n",
        "    INPUT_DIM = len(src_d)\n",
        "    OUTPUT_DIM = len(trg_d)\n",
        "    ENC_EMB_DIM = 256\n",
        "    DEC_EMB_DIM = 256\n",
        "    HID_DIM = 512\n",
        "    N_LAYERS = 4\n",
        "    ENC_DROPOUT = 0.5\n",
        "    DEC_DROPOUT = 0.5\n",
        "    N_EPOCHS = 10\n",
        "    CLIP = 1\n",
        "\n",
        "    best_valid_loss = float('inf')\n",
        "\n",
        "    enc = Encoder(INPUT_DIM, ENC_EMB_DIM, HID_DIM, N_LAYERS, ENC_DROPOUT)\n",
        "    dec = Decoder(OUTPUT_DIM, DEC_EMB_DIM, HID_DIM, N_LAYERS, DEC_DROPOUT)\n",
        "\n",
        "    model = Seq2Seq(enc, dec, device).to(device)\n",
        "\n",
        "    model.apply(init_weights)\n",
        "\n",
        "    criterion = nn.CrossEntropyLoss()\n",
        "\n",
        "    optimizer = optim.Adam(model.parameters())\n",
        "\n",
        "    for epoch in range(N_EPOCHS):\n",
        "        start_time = time.time()\n",
        "\n",
        "        train_loss = train(model, data_loader, optimizer, criterion, CLIP)\n",
        "        valid_loss = evaluate(model, data_val_loader, criterion)\n",
        "\n",
        "        end_time = time.time()\n",
        "\n",
        "        epoch_mins, epoch_secs = epoch_time(start_time, end_time)\n",
        "\n",
        "        if valid_loss < best_valid_loss:\n",
        "             best_valid_loss = valid_loss\n",
        "             torch.save(model.state_dict(), 'tut1-model.pt')\n",
        "\n",
        "        print(f'Epoch: {epoch + 1:02} | Time: {epoch_mins}m {epoch_secs}s')\n",
        "        print(f'\\tTrain Loss: {train_loss:.3f} | Train PPL: {math.exp(train_loss):7.3f}')\n",
        "        print(f'\\t Val. Loss: {valid_loss:.3f} |  Val. PPL: {math.exp(valid_loss):7.3f}')\n",
        "\n",
        "\n",
        "    model.load_state_dict(torch.load('tut1-model.pt'))\n",
        "    test_loss = evaluate(model, data_test_loader, criterion)\n",
        "    print(f'| Test Loss: {test_loss:.3f} | Test PPL: {math.exp(test_loss):7.3f} |')\n"
      ],
      "metadata": {
        "colab": {
          "base_uri": "https://localhost:8080/"
        },
        "id": "YK67iouSF7pT",
        "outputId": "49b08ccd-d7e5-40c2-ffc2-017e127c9e43"
      },
      "execution_count": 22,
      "outputs": [
        {
          "output_type": "stream",
          "name": "stdout",
          "text": [
            "Unique tokens in source (original) vocabulary: 12396\n",
            "Unique tokens in target (modern) vocabulary: 10058\n"
          ]
        },
        {
          "output_type": "stream",
          "name": "stderr",
          "text": [
            "Processing Batches: 100%|██████████| 575/575 [00:29<00:00, 19.43it/s]\n",
            "Processing Batches: 100%|██████████| 39/39 [00:01<00:00, 34.44it/s]\n"
          ]
        },
        {
          "output_type": "stream",
          "name": "stdout",
          "text": [
            "Epoch: 01 | Time: 0m 30s\n",
            "\tTrain Loss: 4.967 | Train PPL: 143.607\n",
            "\t Val. Loss: 6.486 |  Val. PPL: 656.170\n"
          ]
        },
        {
          "output_type": "stream",
          "name": "stderr",
          "text": [
            "Processing Batches: 100%|██████████| 575/575 [00:29<00:00, 19.65it/s]\n",
            "Processing Batches: 100%|██████████| 39/39 [00:00<00:00, 39.79it/s]\n"
          ]
        },
        {
          "output_type": "stream",
          "name": "stdout",
          "text": [
            "Epoch: 02 | Time: 0m 30s\n",
            "\tTrain Loss: 4.582 | Train PPL:  97.703\n",
            "\t Val. Loss: 7.279 |  Val. PPL: 1450.129\n"
          ]
        },
        {
          "output_type": "stream",
          "name": "stderr",
          "text": [
            "Processing Batches: 100%|██████████| 575/575 [00:30<00:00, 18.98it/s]\n",
            "Processing Batches: 100%|██████████| 39/39 [00:00<00:00, 39.83it/s]\n"
          ]
        },
        {
          "output_type": "stream",
          "name": "stdout",
          "text": [
            "Epoch: 03 | Time: 0m 31s\n",
            "\tTrain Loss: 4.427 | Train PPL:  83.655\n",
            "\t Val. Loss: 7.550 |  Val. PPL: 1900.656\n"
          ]
        },
        {
          "output_type": "stream",
          "name": "stderr",
          "text": [
            "Processing Batches: 100%|██████████| 575/575 [00:29<00:00, 19.26it/s]\n",
            "Processing Batches: 100%|██████████| 39/39 [00:01<00:00, 31.68it/s]\n"
          ]
        },
        {
          "output_type": "stream",
          "name": "stdout",
          "text": [
            "Epoch: 04 | Time: 0m 31s\n",
            "\tTrain Loss: 4.278 | Train PPL:  72.129\n",
            "\t Val. Loss: 7.652 |  Val. PPL: 2104.748\n"
          ]
        },
        {
          "output_type": "stream",
          "name": "stderr",
          "text": [
            "Processing Batches: 100%|██████████| 575/575 [00:29<00:00, 19.37it/s]\n",
            "Processing Batches: 100%|██████████| 39/39 [00:00<00:00, 39.09it/s]\n"
          ]
        },
        {
          "output_type": "stream",
          "name": "stdout",
          "text": [
            "Epoch: 05 | Time: 0m 30s\n",
            "\tTrain Loss: 4.167 | Train PPL:  64.497\n",
            "\t Val. Loss: 7.304 |  Val. PPL: 1486.337\n"
          ]
        },
        {
          "output_type": "stream",
          "name": "stderr",
          "text": [
            "Processing Batches: 100%|██████████| 575/575 [00:29<00:00, 19.80it/s]\n",
            "Processing Batches: 100%|██████████| 39/39 [00:00<00:00, 40.77it/s]\n"
          ]
        },
        {
          "output_type": "stream",
          "name": "stdout",
          "text": [
            "Epoch: 06 | Time: 0m 30s\n",
            "\tTrain Loss: 4.052 | Train PPL:  57.490\n",
            "\t Val. Loss: 7.643 |  Val. PPL: 2086.010\n"
          ]
        },
        {
          "output_type": "stream",
          "name": "stderr",
          "text": [
            "Processing Batches: 100%|██████████| 575/575 [00:29<00:00, 19.57it/s]\n",
            "Processing Batches: 100%|██████████| 39/39 [00:00<00:00, 39.65it/s]\n"
          ]
        },
        {
          "output_type": "stream",
          "name": "stdout",
          "text": [
            "Epoch: 07 | Time: 0m 30s\n",
            "\tTrain Loss: 3.943 | Train PPL:  51.598\n",
            "\t Val. Loss: 7.459 |  Val. PPL: 1735.914\n"
          ]
        },
        {
          "output_type": "stream",
          "name": "stderr",
          "text": [
            "Processing Batches: 100%|██████████| 575/575 [00:29<00:00, 19.66it/s]\n",
            "Processing Batches: 100%|██████████| 39/39 [00:00<00:00, 40.42it/s]\n"
          ]
        },
        {
          "output_type": "stream",
          "name": "stdout",
          "text": [
            "Epoch: 08 | Time: 0m 30s\n",
            "\tTrain Loss: 3.826 | Train PPL:  45.859\n",
            "\t Val. Loss: 7.848 |  Val. PPL: 2561.120\n"
          ]
        },
        {
          "output_type": "stream",
          "name": "stderr",
          "text": [
            "Processing Batches: 100%|██████████| 575/575 [00:29<00:00, 19.50it/s]\n",
            "Processing Batches: 100%|██████████| 39/39 [00:01<00:00, 30.91it/s]\n"
          ]
        },
        {
          "output_type": "stream",
          "name": "stdout",
          "text": [
            "Epoch: 09 | Time: 0m 30s\n",
            "\tTrain Loss: 3.726 | Train PPL:  41.527\n",
            "\t Val. Loss: 7.808 |  Val. PPL: 2459.940\n"
          ]
        },
        {
          "output_type": "stream",
          "name": "stderr",
          "text": [
            "Processing Batches: 100%|██████████| 575/575 [00:29<00:00, 19.69it/s]\n",
            "Processing Batches: 100%|██████████| 39/39 [00:00<00:00, 40.71it/s]\n"
          ]
        },
        {
          "output_type": "stream",
          "name": "stdout",
          "text": [
            "Epoch: 10 | Time: 0m 30s\n",
            "\tTrain Loss: 3.621 | Train PPL:  37.364\n",
            "\t Val. Loss: 7.849 |  Val. PPL: 2562.198\n"
          ]
        },
        {
          "output_type": "stream",
          "name": "stderr",
          "text": [
            "Processing Batches: 100%|██████████| 46/46 [00:01<00:00, 40.12it/s]"
          ]
        },
        {
          "output_type": "stream",
          "name": "stdout",
          "text": [
            "| Test Loss: 6.658 | Test PPL: 778.778 |\n"
          ]
        },
        {
          "output_type": "stream",
          "name": "stderr",
          "text": [
            "\n"
          ]
        }
      ]
    }
  ]
}